{
 "cells": [
  {
   "cell_type": "markdown",
   "metadata": {},
   "source": [
    "# 2. Harmonise conventions between CMLCA and Brightway\n",
    "**Choose a supported ecoinvent version and convert from the CMLCA export format to the Brightway import format.** \n",
    "\n",
    "The infile consists of an XLSX workbook which contains the unit process data with tags to group the rows by process and the allocation information. While CMLCA can automatically export the unit process data, the Excel formulas to group the rows and the allocation information were added manually.\n",
    "\n",
    "The outfile consists of an XLSX workbook containing the process data compatible with the target version of the ecoinvent database, in a format supported by brightway.\n",
    "\n",
    "The script assumes that the next XLSX files are already in the `<cwd>/data/correspondenceFiles` folder:\n",
    "\n",
    "* Correspondence File for Elementary Exchanges | ecoinvent 2.2 to ecoinvent 3.01\n",
    "* Correspondence File for Intermediate Exchanges | ecoinvent 2.2 to ecoinvent 3.01\n",
    "* Activity Overview for ecoinvent v3.1, Cut-Off\n",
    "* Correspondence File for Intermediate Exchanges | ecoinvent 3.1 to ecoinvent 3.2\n",
    "* Correspondence File for Intermediate Exchanges | ecoinvent 3.2 to ecoinvent 3.3\n",
    "* Correspondence File for Intermediate Exchanges | ecoinvent 3.3 to ecoinvent 3.4\n",
    "* Correspondence File for Intermediate Exchanges | ecoinvent 3.4 to ecoinvent 3.5\n",
    "* Correspondence File for Intermediate Exchanges | ecoinvent 3.5 to ecoinvent 3.6\n",
    "* Correspondence File for Intermediate Exchanges | ecoinvent 3.6 to ecoinvent 3.7\n",
    "\n",
    "**These files are not included** in the repository. To the date of submission of the accompanying paper, these files could be retrieved from the ecoinvent website, for each ecoinvent version, navigating from '[Information on ecoinvent 3](https://ecoinvent.org/the-ecoinvent-database/data-releases/).'\n",
    "\n",
    "![Name and size of the correspondence files, as drawn from the ecoinvent website.](data/correspondenceFiles/00_correspondenceFilesNameAndSize.jpg)\n",
    "\n",
    "## Reproduce the system models from the original study in Brightway\n",
    "**Convert the system model from CMLCA to brightway to reproduce the results by Sprecher et al.(2014)** \n",
    "\n",
    "In the output file, the `foreground` variable is a string that is combined with the `target` variable. In a later step, the resulting string is parsed from the file generated here as a database name in brightway."
   ]
  },
  {
   "cell_type": "code",
   "execution_count": null,
   "metadata": {},
   "outputs": [],
   "source": [
    "from CMLCAtoBw import convertFromCMLCAeiV2_2\n",
    "\n",
    "foreground ='REM_replicated_'\n",
    "target = '2_2'\n",
    "\n",
    "convertFromCMLCAeiV2_2(foreground, target, replace2ndNi=False, disconnect=True)"
   ]
  },
  {
   "cell_type": "markdown",
   "metadata": {},
   "source": [
    "## Generate a modified version that keeps the unintended disconnections for the software comparison\n",
    "\n",
    "Create a version of the system in which the secondary nickel is replaced by the primary nickel but with the unintended disconections from Sprecher et al. (2014) unfixed."
   ]
  },
  {
   "cell_type": "code",
   "execution_count": null,
   "metadata": {},
   "outputs": [],
   "source": [
    "from CMLCAtoBw import convertFromCMLCAeiV2_2\n",
    "\n",
    "foreground ='REM_unlinked_'\n",
    "target = '2_2'\n",
    "\n",
    "convertFromCMLCAeiV2_2(foreground, target, replace2ndNi=True, disconnect=True)"
   ]
  },
  {
   "cell_type": "markdown",
   "metadata": {},
   "source": [
    "\n",
    "## Generate the modified and corrected version with ecoinvent v2.2 and migrate to the other supported ecoinvent versions \n",
    "**Convert from CMLCA to Brightway with two changes compared to the study by Sprecher et al. (2014):**\n",
    "* Replacement of the LCI dataset `nickel, secondary, from electronic and electric scrap recycling, at refinery[SE]` with `nickel, 99.5%, at plant[GLO]` in the electroplating process of the short-loop recycling alternative.\n",
    "* Correction of the unintended disconnections from the study by Sprecher et al. (2014).\n",
    "\n",
    "In the output files, the `foreground` variable is a string that is combined with the elements in the `targets` list. In [a later step](BWimport.ipynb), the resulting strings are parsed from the files generated here as database names in Brightway."
   ]
  },
  {
   "cell_type": "code",
   "execution_count": null,
   "metadata": {},
   "outputs": [],
   "source": [
    "foreground = 'REM'\n",
    "targets = ['2_2', '3_1', '3_2', '3_3', '3_4', '3_5', '3_6']\n",
    "\n",
    "for target in targets:\n",
    "    convertFromCMLCAeiV2_2(foreground, target, replace2ndNi=True, disconnect=False)"
   ]
  },
  {
   "cell_type": "markdown",
   "metadata": {},
   "source": [
    "## Expected output files\n",
    "\n",
    "The nine files generated from the steps above will be automatically stored at `<cwd>/data/bw-harmonised`.\n",
    "\n",
    "**CAUTION**: These files are already included in the repository. When running the cells above, the files retrieved from the repository will be overwritten.\n",
    "\n",
    "![Name and size of the expected files.](data/bw-harmonised/ExpectedOutputfiles.jpg)\n",
    "\n"
   ]
  }
 ],
 "metadata": {
  "kernelspec": {
   "display_name": "Python 3",
   "language": "python",
   "name": "python3"
  },
  "language_info": {
   "codemirror_mode": {
    "name": "ipython",
    "version": 3
   },
   "file_extension": ".py",
   "mimetype": "text/x-python",
   "name": "python",
   "nbconvert_exporter": "python",
   "pygments_lexer": "ipython3",
   "version": "3.6.9"
  }
 },
 "nbformat": 4,
 "nbformat_minor": 4
}
